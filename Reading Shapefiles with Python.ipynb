{
 "metadata": {
  "name": "Reading Shapefiles with Python.ipynb"
 },
 "nbformat": 3,
 "nbformat_minor": 0,
 "worksheets": [
  {
   "cells": [
    {
     "cell_type": "heading",
     "level": 1,
     "metadata": {},
     "source": [
      "Reading Shapefiles with Python"
     ]
    },
    {
     "cell_type": "markdown",
     "metadata": {},
     "source": [
      "By: Timothy Brathwaite"
     ]
    },
    {
     "cell_type": "markdown",
     "metadata": {},
     "source": [
      "<p>Hi there!<br>\n",
      "So you're trying to read your shapefile using python. There are numerous options available, some of which are:\n",
      "<ul>\n",
      "    <li><a href=\"http://code.google.com/p/pyshp/wiki/PyShpDocs\">Pyshp</a>\n",
      "        <ul><li>A pure python library for reading and writing shapefiles.</li></ul>\n",
      "        </li>\n",
      "    <li><a href=\"http://pysal.readthedocs.org/en/v1.7/users/tutorials/index.html#users-tutorials\">PySAL</a>\n",
      "        <ul><li>A pure python library for spatial analysis.</li></ul>\n",
      "    <li><a href=\"https://pypi.python.org/pypi/GDAL/\">GDAL/OGR</a>\n",
      "        <ul><li>An extremely feature rich library, but one with a steep learning curve.</li></ul>\n",
      "        </li>\n",
      "    <li><a href=\"https://github.com/Toblerity/Fiona\">Fiona</a>\n",
      "        <ul><li>A library build on top of GDAL/OGR to make accessing shapefiles easier.</li></ul>\n",
      "    </li>\n",
      "</ul>\n",
      "</p>\n",
      "\n",
      "<p>Of these, I found <strong><u>Pyshp and Fiona</u></strong> to be the easiest to get started with, so those are the ones I'll focus on.</p>"
     ]
    },
    {
     "cell_type": "heading",
     "level": 2,
     "metadata": {},
     "source": [
      "1. Make sure you have all the needed libraries."
     ]
    },
    {
     "cell_type": "markdown",
     "metadata": {},
     "source": [
      "<p>The first step, which I won't actually go through, is to make sure you have the prerequisite libraries installed. The libraries that we'll need include:\n",
      "<ul><li>Numpy</li>\n",
      "    <li>Pandas (which is built on top of Numpy)</li>\n",
      "    <li>Pyshp and/or Fiona</li>\n",
      "</ul>\n",
      "Note, if you'll be using Fiona, then you also need to install GDAL. There are a number of ways to install all these libraries, and you're of course free to use whichever suits you. A simple way that worked for me was to use <a href=\"https://www.enthought.com/products/canopy/\">enthought canopy</a>. I signed up for a free academic license and was able to use their package manager to install all the libraries mentioned above. (Note that for GDAL to work, one also has to install the library libgdal).</p>"
     ]
    },
    {
     "cell_type": "heading",
     "level": 2,
     "metadata": {},
     "source": [
      "2. Download a shapefile to play with."
     ]
    },
    {
     "cell_type": "markdown",
     "metadata": {},
     "source": [
      "<p>To download an example shapefile to work along with, go here: http://www.census.gov/cgi-bin/geo/shapefiles2013/main. On the drop-down menu for \u201cSelect a Layer Type\u201d, click on places and then click submit. Next, use the drop-down menu to select a state and click download. Save these files somewhere on your computer.</p>\n",
      "\n",
      "<p>The shapefile that was just downloaded should have polygons within it which correspond to all the places (such as cities) within that state and some information about each place.</p>\n",
      "\n",
      "<p>In this post we'll take the spatial information about each feature within your shapefile, as well as the associated information in that shapefiles attribute table, and put them into a spreadsheet like container (specifically, a pandas dataframe) that is easy to work with.</p>"
     ]
    },
    {
     "cell_type": "heading",
     "level": 2,
     "metadata": {},
     "source": [
      "3. Code it up"
     ]
    },
    {
     "cell_type": "markdown",
     "metadata": {},
     "source": [
      "First we'll import the needed libraries to read in the data. Note that to import the pyshp library, we need to use the name \"shapefile\" and not pyshp."
     ]
    },
    {
     "cell_type": "code",
     "collapsed": false,
     "input": [
      "import fiona, shapefile, pandas as pd"
     ],
     "language": "python",
     "metadata": {},
     "outputs": [],
     "prompt_number": 1
    },
    {
     "cell_type": "markdown",
     "metadata": {},
     "source": [
      "<p>Next we'll assign a variable name to the path that points to the shapefile that you downloaded.<br>I named mine caFile since I downloaded data for California. Feel free to use whatever variable name you'd like.</p>"
     ]
    },
    {
     "cell_type": "code",
     "collapsed": false,
     "input": [
      "caFile = r\"your-path-to-the-downloaded-file.shp\""
     ],
     "language": "python",
     "metadata": {},
     "outputs": [],
     "prompt_number": 2
    },
    {
     "cell_type": "heading",
     "level": 3,
     "metadata": {},
     "source": [
      "Psuedo-Code"
     ]
    },
    {
     "cell_type": "markdown",
     "metadata": {},
     "source": [
      "<p>The idea is that we'll want to:\n",
      "    <ol><li>Somehow open the shapefile using python.</li>\n",
      "        <li>Extract the geo/spatial information for each feature, such as the coordinates used to define the feature and the feature's geometry type (whether point, line, polygon, etc.)</li>\n",
      "        <li>Extract the feature's attributes</li>\n",
      "        <li>Place all the geo-spatial and attribute information in a Pandas dataframe.</li>\n",
      "    </ol>\n",
      "</p>\n",
      "\n",
      "<p>The final product(i.e. the function that we'll make) is shown directly below in case you don't want to wade through the derivations (though you should).</p>"
     ]
    },
    {
     "cell_type": "code",
     "collapsed": false,
     "input": [
      "def makeSpatialDF(path, method):\n",
      "    \"\"\"\n",
      "    path = a path to a shapefile\n",
      "    method = One of two strings, \"fiona\" or \"pyshp\". This specifies which module has been imported and should be used to\n",
      "    create the dataframe.\n",
      "    \n",
      "    ====================\n",
      "    Returns a dataframe of the spatial information and attributes associated with each feature in the shapefile at \"path\".\n",
      "    \"\"\"\n",
      "    if method == \"pyshp\":\n",
      "        _shpFile = shapefile.Reader(path) #Load the shapefile into pyshp\n",
      "        attrs = [] #Create an empty array to hold the column headings from the attribute table\n",
      "        for field in _shpFile.fields[1:]: #Iterate over the list of fields, ignore the \"DeletionFlag\" field\n",
      "            attrs.append(field[0]) #Add the field name to the list column headings\n",
      "        cols = [(\"geometry\", \"coordinates\"), (\"geometry\", \"type\")] + attrs #Create list of dataframe columns\n",
      "        data = [] #Create the overall array to hold all the data\n",
      "        recs = _shpFile.shapeRecords() #Create a list of all the features/records in the shapefile\n",
      "        for feat in recs: #Iterate over all features in the shapefile\n",
      "            newRow = [] #Create a new array to hold each row's data\n",
      "            newRow.append(feat.shape.__geo_interface__[\"coordinates\"]) #Add the feature's coordinates to the row\n",
      "            newRow.append(feat.shape.__geo_interface__[\"type\"]) #Add the feature's geometry type to the row\n",
      "            newRow.extend(feat.record) #Add the feature's attributes to the row\n",
      "            data.append(newRow) #Add the row to the overall array of data\n",
      "        return pd.DataFrame(data, columns = cols) #Create the dataframe from the data.\n",
      "    elif method == \"fiona\":\n",
      "        coll = list(fiona.open(path)) #Create the fiona collection of your shapefile\n",
      "        attrs = coll[0][\"properties\"].keys() #Get the column headings from the attribute table\n",
      "        cols = [(\"geometry\", \"coordinates\"), (\"geometry\", \"type\")] + attrs #Create the dataframe columns\n",
      "        data = [] #Create the overall array to hold all the data\n",
      "        for feature in coll: #Iterate over all the features within the feature collection\n",
      "            newRow = [] #Create a new array to hold each row's data\n",
      "            newRow.append(feature[\"geometry\"][\"coordinates\"]) #Add the feature's coordinates to the row\n",
      "            newRow.append(feature[\"geometry\"][\"type\"]) #Add the feature's geometry type to the row\n",
      "            newRow.extend(feature[\"properties\"].values()) #Add the feature's attributes to the row\n",
      "            data.append(newRow) #Add the row to the overall array of data\n",
      "        return pd.DataFrame(data, columns = cols) #Create the dataframe from the data."
     ],
     "language": "python",
     "metadata": {},
     "outputs": [],
     "prompt_number": 3
    },
    {
     "cell_type": "heading",
     "level": 4,
     "metadata": {},
     "source": [
      "Fiona"
     ]
    },
    {
     "cell_type": "markdown",
     "metadata": {},
     "source": [
      "<p>Now let's see how we create this function. We'll start first with Fiona, as it's ever so-slightly more straightforward.</p>\n",
      "\n",
      "<p>From the Fiona documentation at <a>http://toblerity.org/fiona/manual.html#reading-vector-data</a> we can see that\n",
      "    <ol><li>Calling fiona.open() will return a \"Collection\" object.</li>\n",
      "        <li>Calling list() on that collection object will \"empty\" the collection object into a regular python object.</li>\n",
      "    </ol>\n",
      "</p>\n",
      "\n",
      "<p>The window below shows what one of the records from the fiona collection looks like. They are all dictionaries with other dictionaries nested within them.</p>"
     ]
    },
    {
     "cell_type": "code",
     "collapsed": false,
     "input": [
      "list(fiona.open(caFile))[0]"
     ],
     "language": "python",
     "metadata": {},
     "outputs": [
      {
       "metadata": {},
       "output_type": "pyout",
       "prompt_number": 4,
       "text": [
        "{'geometry': {'coordinates': [[(-118.456008, 34.284903),\n",
        "    (-118.45414099999999, 34.286266),\n",
        "    (-118.452511, 34.287456999999996),\n",
        "    (-118.452522, 34.287493999999995),\n",
        "    (-118.45195, 34.287895),\n",
        "    (-118.45181600000001, 34.287988999999996),\n",
        "    (-118.451641, 34.288111),\n",
        "    (-118.451601, 34.28814),\n",
        "    (-118.451352, 34.288326),\n",
        "    (-118.450603, 34.288886999999995),\n",
        "    (-118.450507, 34.288958),\n",
        "    (-118.450208, 34.289166),\n",
        "    (-118.449768, 34.289471999999996),\n",
        "    (-118.449563, 34.289614),\n",
        "    (-118.449483, 34.289671),\n",
        "    (-118.44944100000001, 34.289699),\n",
        "    (-118.449663, 34.289978),\n",
        "    (-118.449784, 34.29013),\n",
        "    (-118.450002, 34.290403999999995),\n",
        "    (-118.44968399999999, 34.290687999999996),\n",
        "    (-118.44926, 34.291066),\n",
        "    (-118.448813, 34.291463),\n",
        "    (-118.448297, 34.29192),\n",
        "    (-118.448046, 34.292054),\n",
        "    (-118.44712, 34.292907),\n",
        "    (-118.44702, 34.293053),\n",
        "    (-118.44550000000001, 34.294405999999995),\n",
        "    (-118.445216, 34.294166),\n",
        "    (-118.445183, 34.294139),\n",
        "    (-118.445004, 34.293994),\n",
        "    (-118.444781, 34.293803),\n",
        "    (-118.44469699999999, 34.293870999999996),\n",
        "    (-118.443572, 34.294875),\n",
        "    (-118.443577, 34.295),\n",
        "    (-118.443437, 34.295125),\n",
        "    (-118.443473, 34.295156),\n",
        "    (-118.442898, 34.295615999999995),\n",
        "    (-118.442834, 34.29567),\n",
        "    (-118.442773, 34.295721),\n",
        "    (-118.442716, 34.295772),\n",
        "    (-118.44254699999999, 34.295923),\n",
        "    (-118.442473, 34.295856),\n",
        "    (-118.442449, 34.295878),\n",
        "    (-118.441788, 34.296467),\n",
        "    (-118.440297, 34.297796),\n",
        "    (-118.438821, 34.299112),\n",
        "    (-118.437316, 34.300454),\n",
        "    (-118.436613, 34.30108),\n",
        "    (-118.436221, 34.301429999999996),\n",
        "    (-118.43590499999999, 34.301705999999996),\n",
        "    (-118.435852, 34.301755),\n",
        "    (-118.435772, 34.301829999999995),\n",
        "    (-118.435095, 34.302434),\n",
        "    (-118.43435099999999, 34.303098),\n",
        "    (-118.433607, 34.303761),\n",
        "    (-118.432863, 34.304425),\n",
        "    (-118.432569, 34.304687),\n",
        "    (-118.432424, 34.304559),\n",
        "    (-118.432177, 34.304323),\n",
        "    (-118.431922, 34.304126),\n",
        "    (-118.431441, 34.303703),\n",
        "    (-118.431365, 34.303630999999996),\n",
        "    (-118.431337, 34.303604),\n",
        "    (-118.431265, 34.303540999999996),\n",
        "    (-118.431107, 34.303402999999996),\n",
        "    (-118.430342, 34.302738),\n",
        "    (-118.430274, 34.302678),\n",
        "    (-118.429321, 34.301837),\n",
        "    (-118.42925, 34.30177),\n",
        "    (-118.427805, 34.300409),\n",
        "    (-118.426354, 34.299040999999995),\n",
        "    (-118.423467, 34.296321999999996),\n",
        "    (-118.421401, 34.294374999999995),\n",
        "    (-118.42004, 34.29537),\n",
        "    (-118.418562, 34.296451),\n",
        "    (-118.418282, 34.296186999999996),\n",
        "    (-118.415792, 34.293841),\n",
        "    (-118.418632, 34.291764),\n",
        "    (-118.418595, 34.291729),\n",
        "    (-118.418195, 34.291351),\n",
        "    (-118.41744800000001, 34.290655),\n",
        "    (-118.417407, 34.290624),\n",
        "    (-118.417123, 34.290355999999996),\n",
        "    (-118.41744800000001, 34.290119),\n",
        "    (-118.420687, 34.287757),\n",
        "    (-118.420729, 34.287727),\n",
        "    (-118.420769, 34.287697),\n",
        "    (-118.422393, 34.286512),\n",
        "    (-118.423243, 34.285892),\n",
        "    (-118.424018, 34.285326999999995),\n",
        "    (-118.425669, 34.284123),\n",
        "    (-118.427291, 34.282939999999996),\n",
        "    (-118.429242, 34.281521),\n",
        "    (-118.43056899999999, 34.280549),\n",
        "    (-118.430539, 34.280518),\n",
        "    (-118.430604, 34.280446999999995),\n",
        "    (-118.432421, 34.278746),\n",
        "    (-118.432477, 34.278695),\n",
        "    (-118.432533, 34.278645),\n",
        "    (-118.432621, 34.278568),\n",
        "    (-118.432705, 34.278497),\n",
        "    (-118.43276900000001, 34.278444),\n",
        "    (-118.432862, 34.278371),\n",
        "    (-118.432956, 34.278298),\n",
        "    (-118.433051, 34.278227),\n",
        "    (-118.433614, 34.277816),\n",
        "    (-118.433714, 34.277744),\n",
        "    (-118.433992, 34.27787),\n",
        "    (-118.434108, 34.277975),\n",
        "    (-118.435058, 34.278873),\n",
        "    (-118.435586, 34.279371999999995),\n",
        "    (-118.435712, 34.279309999999995),\n",
        "    (-118.435926, 34.279145),\n",
        "    (-118.435929, 34.279123999999996),\n",
        "    (-118.435933, 34.279102),\n",
        "    (-118.435899, 34.279044999999996),\n",
        "    (-118.435976, 34.278973),\n",
        "    (-118.436142, 34.278864999999996),\n",
        "    (-118.436291, 34.278739),\n",
        "    (-118.436388, 34.27868),\n",
        "    (-118.436847, 34.278345),\n",
        "    (-118.437493, 34.277874),\n",
        "    (-118.438106, 34.277426999999996),\n",
        "    (-118.43840399999999, 34.27721),\n",
        "    (-118.43876399999999, 34.276947),\n",
        "    (-118.438864, 34.276874),\n",
        "    (-118.439096, 34.276705),\n",
        "    (-118.439299, 34.276557),\n",
        "    (-118.439425, 34.276465),\n",
        "    (-118.440043, 34.276015),\n",
        "    (-118.440727, 34.275515999999996),\n",
        "    (-118.441374, 34.275045),\n",
        "    (-118.442021, 34.274573),\n",
        "    (-118.442647, 34.274116),\n",
        "    (-118.443314, 34.27363),\n",
        "    (-118.443734, 34.273309999999995),\n",
        "    (-118.443808, 34.273379999999996),\n",
        "    (-118.444963, 34.274471),\n",
        "    (-118.44618299999999, 34.275624),\n",
        "    (-118.44692, 34.27632),\n",
        "    (-118.447048, 34.276441999999996),\n",
        "    (-118.448641, 34.277946),\n",
        "    (-118.449883, 34.27912),\n",
        "    (-118.451127, 34.280296),\n",
        "    (-118.452114, 34.281228),\n",
        "    (-118.452347, 34.281454),\n",
        "    (-118.452587, 34.281673999999995),\n",
        "    (-118.45270099999999, 34.281782),\n",
        "    (-118.452961, 34.282044),\n",
        "    (-118.45317, 34.282225),\n",
        "    (-118.453675, 34.282703),\n",
        "    (-118.454001, 34.283011),\n",
        "    (-118.454741, 34.283709),\n",
        "    (-118.454756, 34.283705),\n",
        "    (-118.454793, 34.283699),\n",
        "    (-118.454848, 34.283789999999996),\n",
        "    (-118.454926, 34.283885),\n",
        "    (-118.45524499999999, 34.284186999999996),\n",
        "    (-118.455295, 34.284234),\n",
        "    (-118.45537, 34.284304),\n",
        "    (-118.455491, 34.284416),\n",
        "    (-118.455678, 34.284594999999996),\n",
        "    (-118.456008, 34.284903)]],\n",
        "  'type': 'Polygon'},\n",
        " 'id': '0',\n",
        " 'properties': OrderedDict([(u'STATEFP', u'06'), (u'PLACEFP', u'66140'), (u'PLACENS', u'02411785'), (u'GEOID', u'0666140'), (u'NAME', u'San Fernando'), (u'NAMELSAD', u'San Fernando city'), (u'LSAD', u'25'), (u'CLASSFP', u'C1'), (u'PCICBSA', u'N'), (u'PCINECTA', u'N'), (u'MTFCC', u'G4110'), (u'FUNCSTAT', u'A'), (u'ALAND', 6148690.0), (u'AWATER', 0.0), (u'INTPTLAT', u'+34.2886519'), (u'INTPTLON', u'-118.4362413')]),\n",
        " 'type': 'Feature'}"
       ]
      }
     ],
     "prompt_number": 4
    },
    {
     "cell_type": "markdown",
     "metadata": {},
     "source": [
      "<p>Notably, the attributes of each record can be accessed via the \"properties\" key, <strong><u>and</u></strong> they are stored in an OrderedDictionary, which as you might guess, preserves the order of the key/value pairs within it.</p>\n",
      "<p>This means that simply by calling [\"properties\"].values() from within each record, we can get the attributes in a consistent ordering.</p>\n",
      "<p>The last step is to make sure that each record has all of its desired information placed in its own array so that we can pass a matrix (i.e. an array of arrays) to the pandas dataframe constructor. This algorithm is shown below.</p>"
     ]
    },
    {
     "cell_type": "code",
     "collapsed": false,
     "input": [
      "coll = list(fiona.open(caFile)) #Create the fiona collection of your shapefile\n",
      "attrs = coll[0][\"properties\"].keys() #Get the column headings. They're the same for all records.\n",
      "cols = [(\"geometry\", \"coordinates\"), (\"geometry\", \"type\")] + attrs #Create the dataframe columns\n",
      "data = [] #Create the overall array to hold all the data\n",
      "for feature in coll: #Iterate over all the features within the feature collection\n",
      "    newRow = [] #Create a new array to hold each row's data\n",
      "    newRow.append(feature[\"geometry\"][\"coordinates\"]) #Add the feature's coordinates to the row\n",
      "    newRow.append(feature[\"geometry\"][\"type\"]) #Add the feature's geometry type to the row\n",
      "    newRow.extend(feature[\"properties\"].values()) #Add the feature's attributes to the row\n",
      "    data.append(newRow) #Add the row to the overall array of data\n",
      "df = pd.DataFrame(data, columns = cols) #Create the dataframe from the data."
     ],
     "language": "python",
     "metadata": {},
     "outputs": [],
     "prompt_number": 5
    },
    {
     "cell_type": "markdown",
     "metadata": {},
     "source": [
      "Note that above, I named the first two columns, (\"geometry\", \"coordinates\"), and (\"geometry\", \"type\"). This was done simply so that when writing shapefiles, I would remember to nest the \"coordinate\" and \"type\" keys within the geometry dictionary. Feel free to call these columns whatever you wish."
     ]
    },
    {
     "cell_type": "code",
     "collapsed": false,
     "input": [
      "#This cell just provides a general overview of your data.\n",
      "#Summary statistics of numeric columns can be obtained by calling df.describe()\n",
      "df.info()"
     ],
     "language": "python",
     "metadata": {},
     "outputs": [
      {
       "output_type": "stream",
       "stream": "stdout",
       "text": [
        "<class 'pandas.core.frame.DataFrame'>\n",
        "Int64Index: 1517 entries, 0 to 1516\n",
        "Data columns (total 18 columns):\n",
        "(geometry, coordinates)    1517 non-null object\n",
        "(geometry, type)           1517 non-null object\n",
        "STATEFP                    1517 non-null object\n",
        "PLACEFP                    1517 non-null object\n",
        "PLACENS                    1517 non-null object\n",
        "GEOID                      1517 non-null object\n",
        "NAME                       1517 non-null object\n",
        "NAMELSAD                   1517 non-null object\n",
        "LSAD                       1517 non-null object\n",
        "CLASSFP                    1517 non-null object\n",
        "PCICBSA                    1517 non-null object\n",
        "PCINECTA                   1517 non-null object\n",
        "MTFCC                      1517 non-null object\n",
        "FUNCSTAT                   1517 non-null object\n",
        "ALAND                      1517 non-null float64\n",
        "AWATER                     1517 non-null float64\n",
        "INTPTLAT                   1517 non-null object\n",
        "INTPTLON                   1517 non-null object\n",
        "dtypes: float64(2), object(16)"
       ]
      }
     ],
     "prompt_number": 6
    },
    {
     "cell_type": "code",
     "collapsed": false,
     "input": [
      "df.iloc[0] #Look at the first row's information"
     ],
     "language": "python",
     "metadata": {},
     "outputs": [
      {
       "metadata": {},
       "output_type": "pyout",
       "prompt_number": 7,
       "text": [
        "(geometry, coordinates)    [[(-118.456008, 34.284903), (-118.454141, 34.2...\n",
        "(geometry, type)                                                     Polygon\n",
        "STATEFP                                                                   06\n",
        "PLACEFP                                                                66140\n",
        "PLACENS                                                             02411785\n",
        "GEOID                                                                0666140\n",
        "NAME                                                            San Fernando\n",
        "NAMELSAD                                                   San Fernando city\n",
        "LSAD                                                                      25\n",
        "CLASSFP                                                                   C1\n",
        "PCICBSA                                                                    N\n",
        "PCINECTA                                                                   N\n",
        "MTFCC                                                                  G4110\n",
        "FUNCSTAT                                                                   A\n",
        "ALAND                                                                6148690\n",
        "AWATER                                                                     0\n",
        "INTPTLAT                                                         +34.2886519\n",
        "INTPTLON                                                        -118.4362413\n",
        "Name: 0, dtype: object"
       ]
      }
     ],
     "prompt_number": 7
    },
    {
     "cell_type": "code",
     "collapsed": false,
     "input": [
      "df.head() #Get an overview of what the information in the first few rows looks like"
     ],
     "language": "python",
     "metadata": {},
     "outputs": [
      {
       "html": [
        "<div style=\"max-height:1000px;max-width:1500px;overflow:auto;\">\n",
        "<table border=\"1\" class=\"dataframe\">\n",
        "  <thead>\n",
        "    <tr style=\"text-align: right;\">\n",
        "      <th></th>\n",
        "      <th>(geometry, coordinates)</th>\n",
        "      <th>(geometry, type)</th>\n",
        "      <th>STATEFP</th>\n",
        "      <th>PLACEFP</th>\n",
        "      <th>PLACENS</th>\n",
        "      <th>GEOID</th>\n",
        "      <th>NAME</th>\n",
        "      <th>NAMELSAD</th>\n",
        "      <th>LSAD</th>\n",
        "      <th>CLASSFP</th>\n",
        "      <th>PCICBSA</th>\n",
        "      <th>PCINECTA</th>\n",
        "      <th>MTFCC</th>\n",
        "      <th>FUNCSTAT</th>\n",
        "      <th>ALAND</th>\n",
        "      <th>AWATER</th>\n",
        "      <th>INTPTLAT</th>\n",
        "      <th>INTPTLON</th>\n",
        "    </tr>\n",
        "  </thead>\n",
        "  <tbody>\n",
        "    <tr>\n",
        "      <th>0</th>\n",
        "      <td> [[(-118.456008, 34.284903), (-118.454141, 34.2...</td>\n",
        "      <td>      Polygon</td>\n",
        "      <td> 06</td>\n",
        "      <td> 66140</td>\n",
        "      <td> 02411785</td>\n",
        "      <td> 0666140</td>\n",
        "      <td>               San Fernando</td>\n",
        "      <td>               San Fernando city</td>\n",
        "      <td> 25</td>\n",
        "      <td> C1</td>\n",
        "      <td> N</td>\n",
        "      <td> N</td>\n",
        "      <td> G4110</td>\n",
        "      <td> A</td>\n",
        "      <td>  6148690</td>\n",
        "      <td>        0</td>\n",
        "      <td> +34.2886519</td>\n",
        "      <td> -118.4362413</td>\n",
        "    </tr>\n",
        "    <tr>\n",
        "      <th>1</th>\n",
        "      <td> [[(-123.035115, 38.787005), (-123.035093, 38.7...</td>\n",
        "      <td>      Polygon</td>\n",
        "      <td> 06</td>\n",
        "      <td> 14190</td>\n",
        "      <td> 02409487</td>\n",
        "      <td> 0614190</td>\n",
        "      <td>                 Cloverdale</td>\n",
        "      <td>                 Cloverdale city</td>\n",
        "      <td> 25</td>\n",
        "      <td> C1</td>\n",
        "      <td> N</td>\n",
        "      <td> N</td>\n",
        "      <td> G4110</td>\n",
        "      <td> A</td>\n",
        "      <td>  7863861</td>\n",
        "      <td>    59201</td>\n",
        "      <td> +38.7959624</td>\n",
        "      <td> -123.0153700</td>\n",
        "    </tr>\n",
        "    <tr>\n",
        "      <th>2</th>\n",
        "      <td> [[(-122.729598, 38.333486), (-122.729512, 38.3...</td>\n",
        "      <td>      Polygon</td>\n",
        "      <td> 06</td>\n",
        "      <td> 16560</td>\n",
        "      <td> 02410240</td>\n",
        "      <td> 0616560</td>\n",
        "      <td>                     Cotati</td>\n",
        "      <td>                     Cotati city</td>\n",
        "      <td> 25</td>\n",
        "      <td> C1</td>\n",
        "      <td> N</td>\n",
        "      <td> N</td>\n",
        "      <td> G4110</td>\n",
        "      <td> A</td>\n",
        "      <td>  4869011</td>\n",
        "      <td>     8380</td>\n",
        "      <td> +38.3284920</td>\n",
        "      <td> -122.7100491</td>\n",
        "    </tr>\n",
        "    <tr>\n",
        "      <th>3</th>\n",
        "      <td> [[[(-119.29710299999999, 34.344633), (-119.297...</td>\n",
        "      <td> MultiPolygon</td>\n",
        "      <td> 06</td>\n",
        "      <td> 65042</td>\n",
        "      <td> 02411779</td>\n",
        "      <td> 0665042</td>\n",
        "      <td> San Buenaventura (Ventura)</td>\n",
        "      <td> San Buenaventura (Ventura) city</td>\n",
        "      <td> 25</td>\n",
        "      <td> C1</td>\n",
        "      <td> Y</td>\n",
        "      <td> N</td>\n",
        "      <td> G4110</td>\n",
        "      <td> A</td>\n",
        "      <td> 56502447</td>\n",
        "      <td> 27033706</td>\n",
        "      <td> +34.2677796</td>\n",
        "      <td> -119.2542062</td>\n",
        "    </tr>\n",
        "    <tr>\n",
        "      <th>4</th>\n",
        "      <td> [[(-117.891093, 34.14581), (-117.89064, 34.146...</td>\n",
        "      <td>      Polygon</td>\n",
        "      <td> 06</td>\n",
        "      <td> 30014</td>\n",
        "      <td> 02410601</td>\n",
        "      <td> 0630014</td>\n",
        "      <td>                   Glendora</td>\n",
        "      <td>                   Glendora city</td>\n",
        "      <td> 25</td>\n",
        "      <td> C1</td>\n",
        "      <td> N</td>\n",
        "      <td> N</td>\n",
        "      <td> G4110</td>\n",
        "      <td> A</td>\n",
        "      <td> 50242925</td>\n",
        "      <td>   411992</td>\n",
        "      <td> +34.1449667</td>\n",
        "      <td> -117.8476672</td>\n",
        "    </tr>\n",
        "  </tbody>\n",
        "</table>\n",
        "<p>5 rows \u00d7 18 columns</p>\n",
        "</div>"
       ],
       "metadata": {},
       "output_type": "pyout",
       "prompt_number": 8,
       "text": [
        "                             (geometry, coordinates) (geometry, type) STATEFP  \\\n",
        "0  [[(-118.456008, 34.284903), (-118.454141, 34.2...          Polygon      06   \n",
        "1  [[(-123.035115, 38.787005), (-123.035093, 38.7...          Polygon      06   \n",
        "2  [[(-122.729598, 38.333486), (-122.729512, 38.3...          Polygon      06   \n",
        "3  [[[(-119.29710299999999, 34.344633), (-119.297...     MultiPolygon      06   \n",
        "4  [[(-117.891093, 34.14581), (-117.89064, 34.146...          Polygon      06   \n",
        "\n",
        "  PLACEFP   PLACENS    GEOID                        NAME  \\\n",
        "0   66140  02411785  0666140                San Fernando   \n",
        "1   14190  02409487  0614190                  Cloverdale   \n",
        "2   16560  02410240  0616560                      Cotati   \n",
        "3   65042  02411779  0665042  San Buenaventura (Ventura)   \n",
        "4   30014  02410601  0630014                    Glendora   \n",
        "\n",
        "                          NAMELSAD LSAD CLASSFP PCICBSA PCINECTA  MTFCC  \\\n",
        "0                San Fernando city   25      C1       N        N  G4110   \n",
        "1                  Cloverdale city   25      C1       N        N  G4110   \n",
        "2                      Cotati city   25      C1       N        N  G4110   \n",
        "3  San Buenaventura (Ventura) city   25      C1       Y        N  G4110   \n",
        "4                    Glendora city   25      C1       N        N  G4110   \n",
        "\n",
        "  FUNCSTAT     ALAND    AWATER     INTPTLAT      INTPTLON  \n",
        "0        A   6148690         0  +34.2886519  -118.4362413  \n",
        "1        A   7863861     59201  +38.7959624  -123.0153700  \n",
        "2        A   4869011      8380  +38.3284920  -122.7100491  \n",
        "3        A  56502447  27033706  +34.2677796  -119.2542062  \n",
        "4        A  50242925    411992  +34.1449667  -117.8476672  \n",
        "\n",
        "[5 rows x 18 columns]"
       ]
      }
     ],
     "prompt_number": 8
    },
    {
     "cell_type": "heading",
     "level": 4,
     "metadata": {},
     "source": [
      "Pyshp"
     ]
    },
    {
     "cell_type": "markdown",
     "metadata": {},
     "source": [
      "<p>Now let's recreate this dataframe using pyshp.</p>\n",
      "<p>Calling shapefile.Reader() on a path to a shapefile will return a \"reader\" object which allows you to access a bunch of different properties of your shapefile.</p>"
     ]
    },
    {
     "cell_type": "code",
     "collapsed": false,
     "input": [
      "caShp = shapefile.Reader(caFile)"
     ],
     "language": "python",
     "metadata": {},
     "outputs": [],
     "prompt_number": 9
    },
    {
     "cell_type": "markdown",
     "metadata": {},
     "source": [
      "<p>One of the most useful things you can access is shapeRecords method which returns a list of objects, each of which has a \"record\" and \"shape\" attribute associated with it.</p>"
     ]
    },
    {
     "cell_type": "code",
     "collapsed": false,
     "input": [
      "caFeats = caShp.shapeRecords()"
     ],
     "language": "python",
     "metadata": {},
     "outputs": [],
     "prompt_number": 10
    },
    {
     "cell_type": "markdown",
     "metadata": {},
     "source": [
      "<p>The record attribute is simply the feature's attributes as you would see them in an arcGIS attribute table.</p>"
     ]
    },
    {
     "cell_type": "code",
     "collapsed": false,
     "input": [
      "caFeats[0].record"
     ],
     "language": "python",
     "metadata": {},
     "outputs": [
      {
       "metadata": {},
       "output_type": "pyout",
       "prompt_number": 11,
       "text": [
        "['06',\n",
        " '66140',\n",
        " '02411785',\n",
        " '0666140',\n",
        " 'San Fernando',\n",
        " 'San Fernando city',\n",
        " '25',\n",
        " 'C1',\n",
        " 'N',\n",
        " 'N',\n",
        " 'G4110',\n",
        " 'A',\n",
        " 6148690,\n",
        " 0,\n",
        " '+34.2886519',\n",
        " '-118.4362413']"
       ]
      }
     ],
     "prompt_number": 11
    },
    {
     "cell_type": "markdown",
     "metadata": {},
     "source": [
      "The column headings for each attribute can be found by accessing the fields attribute of the shapefile reader object:"
     ]
    },
    {
     "cell_type": "code",
     "collapsed": false,
     "input": [
      "caShp.fields"
     ],
     "language": "python",
     "metadata": {},
     "outputs": [
      {
       "metadata": {},
       "output_type": "pyout",
       "prompt_number": 12,
       "text": [
        "[('DeletionFlag', 'C', 1, 0),\n",
        " ['STATEFP', 'C', 2, 0],\n",
        " ['PLACEFP', 'C', 5, 0],\n",
        " ['PLACENS', 'C', 8, 0],\n",
        " ['GEOID', 'C', 7, 0],\n",
        " ['NAME', 'C', 100, 0],\n",
        " ['NAMELSAD', 'C', 100, 0],\n",
        " ['LSAD', 'C', 2, 0],\n",
        " ['CLASSFP', 'C', 2, 0],\n",
        " ['PCICBSA', 'C', 1, 0],\n",
        " ['PCINECTA', 'C', 1, 0],\n",
        " ['MTFCC', 'C', 5, 0],\n",
        " ['FUNCSTAT', 'C', 1, 0],\n",
        " ['ALAND', 'N', 14, 0],\n",
        " ['AWATER', 'N', 14, 0],\n",
        " ['INTPTLAT', 'C', 11, 0],\n",
        " ['INTPTLON', 'C', 12, 0]]"
       ]
      }
     ],
     "prompt_number": 12
    },
    {
     "cell_type": "markdown",
     "metadata": {},
     "source": [
      "<p>Because of how the fields are reported, we will have to write a for-loop which ignores the automatically genereated \"DeletionFlag\" entry in the fields attribute and then loops through each item of the list, grabbing only the first element of each item (aka the string defining the column).</p>\n",
      "\n",
      "<p>Such a loop would look like so:</p>"
     ]
    },
    {
     "cell_type": "code",
     "collapsed": false,
     "input": [
      "attrs = []\n",
      "for i in caShp.fields[1:]:\n",
      "    attrs.append(i[0])\n",
      "print attrs"
     ],
     "language": "python",
     "metadata": {},
     "outputs": [
      {
       "output_type": "stream",
       "stream": "stdout",
       "text": [
        "['STATEFP', 'PLACEFP', 'PLACENS', 'GEOID', 'NAME', 'NAMELSAD', 'LSAD', 'CLASSFP', 'PCICBSA', 'PCINECTA', 'MTFCC', 'FUNCSTAT', 'ALAND', 'AWATER', 'INTPTLAT', 'INTPTLON']\n"
       ]
      }
     ],
     "prompt_number": 13
    },
    {
     "cell_type": "code",
     "collapsed": false,
     "input": [
      "dir(caFeats[0].shape)"
     ],
     "language": "python",
     "metadata": {},
     "outputs": [
      {
       "metadata": {},
       "output_type": "pyout",
       "prompt_number": 14,
       "text": [
        "['__doc__',\n",
        " '__geo_interface__',\n",
        " '__init__',\n",
        " '__module__',\n",
        " 'bbox',\n",
        " 'parts',\n",
        " 'points',\n",
        " 'shapeType']"
       ]
      }
     ],
     "prompt_number": 14
    },
    {
     "cell_type": "markdown",
     "metadata": {},
     "source": [
      "<p>As shown above, the \"shape\" attibute has within it a \"points\" attribute and a \"shapeType\" attribute. These attributes are analagous to the \"coordinates\" and \"type\" keys in the \"geometry\" dictionary of a fiona feature.</p>\n",
      "<p>One difference to note between Fionia and Pyshp is that the shapeType attribute in Pyshp will return a number denoting the ESRI shapeType, while the \"type\" key in Fiona returns a string denoting the type of geometry. The two are slightly different. For instance:</p>"
     ]
    },
    {
     "cell_type": "code",
     "collapsed": false,
     "input": [
      "df.iloc[3][(\"geometry\", \"type\")]"
     ],
     "language": "python",
     "metadata": {},
     "outputs": [
      {
       "metadata": {},
       "output_type": "pyout",
       "prompt_number": 15,
       "text": [
        "'MultiPolygon'"
       ]
      }
     ],
     "prompt_number": 15
    },
    {
     "cell_type": "code",
     "collapsed": false,
     "input": [
      "caFeats[3].shape.shapeType"
     ],
     "language": "python",
     "metadata": {},
     "outputs": [
      {
       "metadata": {},
       "output_type": "pyout",
       "prompt_number": 16,
       "text": [
        "5"
       ]
      }
     ],
     "prompt_number": 16
    },
    {
     "cell_type": "markdown",
     "metadata": {},
     "source": [
      "<p>To decode the shapeType values, one can see page 8 of 34 in the <a href=\"http://www.esri.com/library/whitepapers/pdfs/shapefile.pdf\">ESRI shapefile documentation</a>. Here, the shapeType codes are broken down as:\n",
      "<ul><li>0: Null Shape</li>\n",
      "    <table>\n",
      "            <tr>\n",
      "                <td>1: Point</td>\n",
      "                <td>3: PolyLine</td>\n",
      "                <td>5: Polygon</td>\n",
      "                <td>8: MultiPoint</td>\n",
      "            </tr>\n",
      "            <tr>\n",
      "                <td>11: PointZ</td>\n",
      "                <td>13: PolyLineZ</td>\n",
      "                <td>15: PolygonZ</td>\n",
      "                <td>18: MultiPointZ</td>\n",
      "            </tr>\n",
      "            <tr>\n",
      "                <td>21: PointM</td>\n",
      "                <td>23: PolyLineM</td>\n",
      "                <td>25: PolygonM</td>\n",
      "                <td>28: MultiPointM</td>\n",
      "            </tr>\n",
      "        </table>\n",
      "    <li>31: MultiPatch</li>\n",
      "</ul>\n",
      "You can see the documentation for descriptions of what each of these mean. Also note that the Fiona \"MultiPolygon\" has a \"Polygon\" shapeType. Thus there is a many to one mapping from Fiona geometry types to ESRI shapeTypes.</p><p>Both \"MultiPolygons\" and \"Polygons\" have shapeType 5, and both \"MultiLineStrings\" and \"LineStrings\" have shapeType 3. An analagous story holds for shapeTypes 18 and 13 when the 3-dimensional versions of these geometries, which incorporate a z-coordinate, are used.\n",
      "</p>\n",
      "\n",
      "<p>This difference can matter when using other libraries which are helpful with spatial data, such as <a href=\"http://toblerity.org/shapely/manual.html\">Shapely</a> (which requires that one explicitly know what type of geometry is being used whether a LineString vs a MultiLineString or Polygon vs a Multipolygon).</p>\n",
      "\n",
      "<p>Thankfully, <a href=\"https://groups.google.com/forum/#!topic/geospatialpython/3el_DytXiTc\">Christian Ledermann</a> implemented the <a href=\"https://gist.github.com/sgillies/2217756\">Geo Interface</a> for pyshp so this library, as well as Fiona, Shapely, and others, all represent the spatial data for features in the same way. Using the geo_interface attribute, we get the familiar geometry type from before.</p>"
     ]
    },
    {
     "cell_type": "code",
     "collapsed": false,
     "input": [
      "caFeats[3].shape.__geo_interface__[\"type\"]"
     ],
     "language": "python",
     "metadata": {},
     "outputs": [
      {
       "metadata": {},
       "output_type": "pyout",
       "prompt_number": 17,
       "text": [
        "'MultiPolygon'"
       ]
      }
     ],
     "prompt_number": 17
    },
    {
     "cell_type": "markdown",
     "metadata": {},
     "source": [
      "Additionally, we can access the coordinates this way and know they will be compatible with other libraries."
     ]
    },
    {
     "cell_type": "code",
     "collapsed": false,
     "input": [
      "caFeats[3].shape.__geo_interface__.keys()"
     ],
     "language": "python",
     "metadata": {},
     "outputs": [
      {
       "metadata": {},
       "output_type": "pyout",
       "prompt_number": 18,
       "text": [
        "['type', 'coordinates']"
       ]
      }
     ],
     "prompt_number": 18
    },
    {
     "cell_type": "markdown",
     "metadata": {},
     "source": [
      "Finally, the algorithm to create a dataframe using pyshp might look something like the following:"
     ]
    },
    {
     "cell_type": "code",
     "collapsed": false,
     "input": [
      "caShp = shapefile.Reader(caFile) #Load the shapefile into pyshp\n",
      "attrs = [] #Create an empty array to hold the column headings from the attribute table\n",
      "for field in caShp.fields[1:]: #Iterate over the list of fields, ignore the \"DeletionFlag\" field\n",
      "    attrs.append(field[0]) #Add the field name to the list column headings\n",
      "cols = [(\"geometry\", \"coordinates\"), (\"geometry\", \"type\")] + attrs #Create list of dataframe columns\n",
      "data = [] #Create the overall array to hold all the data\n",
      "recs = caShp.shapeRecords() #Create a list of all the features/records in the shapefile\n",
      "for feat in recs: #Iterate over all features in the shapefile\n",
      "    newRow = [] #Create a new array to hold each row's data\n",
      "    newRow.append(feat.shape.__geo_interface__[\"coordinates\"]) #Add the features coordinates to the row\n",
      "    newRow.append(feat.shape.__geo_interface__[\"type\"]) #Add the features geometry type to the row\n",
      "    newRow.extend(feat.record) #Add the feature's attributes to the row\n",
      "    data.append(newRow) #Add the row to the overall array of data\n",
      "df2 = pd.DataFrame(data, columns = cols) #Create the dataframe from the data."
     ],
     "language": "python",
     "metadata": {},
     "outputs": [],
     "prompt_number": 19
    },
    {
     "cell_type": "code",
     "collapsed": false,
     "input": [
      "#Our newly created dataframe should look very similar to the one created using fiona.\n",
      "df2.info()"
     ],
     "language": "python",
     "metadata": {},
     "outputs": [
      {
       "output_type": "stream",
       "stream": "stdout",
       "text": [
        "<class 'pandas.core.frame.DataFrame'>\n",
        "Int64Index: 1517 entries, 0 to 1516\n",
        "Data columns (total 18 columns):\n",
        "(geometry, coordinates)    1517 non-null object\n",
        "(geometry, type)           1517 non-null object\n",
        "STATEFP                    1517 non-null object\n",
        "PLACEFP                    1517 non-null object\n",
        "PLACENS                    1517 non-null object\n",
        "GEOID                      1517 non-null object\n",
        "NAME                       1517 non-null object\n",
        "NAMELSAD                   1517 non-null object\n",
        "LSAD                       1517 non-null object\n",
        "CLASSFP                    1517 non-null object\n",
        "PCICBSA                    1517 non-null object\n",
        "PCINECTA                   1517 non-null object\n",
        "MTFCC                      1517 non-null object\n",
        "FUNCSTAT                   1517 non-null object\n",
        "ALAND                      1517 non-null int64\n",
        "AWATER                     1517 non-null int64\n",
        "INTPTLAT                   1517 non-null object\n",
        "INTPTLON                   1517 non-null object\n",
        "dtypes: int64(2), object(16)"
       ]
      }
     ],
     "prompt_number": 20
    },
    {
     "cell_type": "code",
     "collapsed": false,
     "input": [
      "#The only major difference should be the (\"geometry\", \"type\") column as noted earlier.\n",
      "df2.iloc[0]"
     ],
     "language": "python",
     "metadata": {},
     "outputs": [
      {
       "metadata": {},
       "output_type": "pyout",
       "prompt_number": 21,
       "text": [
        "(geometry, coordinates)    (((-118.456008, 34.284903), (-118.454141, 34.2...\n",
        "(geometry, type)                                                     Polygon\n",
        "STATEFP                                                                   06\n",
        "PLACEFP                                                                66140\n",
        "PLACENS                                                             02411785\n",
        "GEOID                                                                0666140\n",
        "NAME                                                            San Fernando\n",
        "NAMELSAD                                                   San Fernando city\n",
        "LSAD                                                                      25\n",
        "CLASSFP                                                                   C1\n",
        "PCICBSA                                                                    N\n",
        "PCINECTA                                                                   N\n",
        "MTFCC                                                                  G4110\n",
        "FUNCSTAT                                                                   A\n",
        "ALAND                                                                6148690\n",
        "AWATER                                                                     0\n",
        "INTPTLAT                                                         +34.2886519\n",
        "INTPTLON                                                        -118.4362413\n",
        "Name: 0, dtype: object"
       ]
      }
     ],
     "prompt_number": 21
    },
    {
     "cell_type": "code",
     "collapsed": false,
     "input": [
      "df2.head()"
     ],
     "language": "python",
     "metadata": {},
     "outputs": [
      {
       "html": [
        "<div style=\"max-height:1000px;max-width:1500px;overflow:auto;\">\n",
        "<table border=\"1\" class=\"dataframe\">\n",
        "  <thead>\n",
        "    <tr style=\"text-align: right;\">\n",
        "      <th></th>\n",
        "      <th>(geometry, coordinates)</th>\n",
        "      <th>(geometry, type)</th>\n",
        "      <th>STATEFP</th>\n",
        "      <th>PLACEFP</th>\n",
        "      <th>PLACENS</th>\n",
        "      <th>GEOID</th>\n",
        "      <th>NAME</th>\n",
        "      <th>NAMELSAD</th>\n",
        "      <th>LSAD</th>\n",
        "      <th>CLASSFP</th>\n",
        "      <th>PCICBSA</th>\n",
        "      <th>PCINECTA</th>\n",
        "      <th>MTFCC</th>\n",
        "      <th>FUNCSTAT</th>\n",
        "      <th>ALAND</th>\n",
        "      <th>AWATER</th>\n",
        "      <th>INTPTLAT</th>\n",
        "      <th>INTPTLON</th>\n",
        "    </tr>\n",
        "  </thead>\n",
        "  <tbody>\n",
        "    <tr>\n",
        "      <th>0</th>\n",
        "      <td> (((-118.456008, 34.284903), (-118.454141, 34.2...</td>\n",
        "      <td>      Polygon</td>\n",
        "      <td> 06</td>\n",
        "      <td> 66140</td>\n",
        "      <td> 02411785</td>\n",
        "      <td> 0666140</td>\n",
        "      <td>               San Fernando</td>\n",
        "      <td>               San Fernando city</td>\n",
        "      <td> 25</td>\n",
        "      <td> C1</td>\n",
        "      <td> N</td>\n",
        "      <td> N</td>\n",
        "      <td> G4110</td>\n",
        "      <td> A</td>\n",
        "      <td>  6148690</td>\n",
        "      <td>        0</td>\n",
        "      <td> +34.2886519</td>\n",
        "      <td> -118.4362413</td>\n",
        "    </tr>\n",
        "    <tr>\n",
        "      <th>1</th>\n",
        "      <td> (((-123.035115, 38.787005), (-123.035093, 38.7...</td>\n",
        "      <td>      Polygon</td>\n",
        "      <td> 06</td>\n",
        "      <td> 14190</td>\n",
        "      <td> 02409487</td>\n",
        "      <td> 0614190</td>\n",
        "      <td>                 Cloverdale</td>\n",
        "      <td>                 Cloverdale city</td>\n",
        "      <td> 25</td>\n",
        "      <td> C1</td>\n",
        "      <td> N</td>\n",
        "      <td> N</td>\n",
        "      <td> G4110</td>\n",
        "      <td> A</td>\n",
        "      <td>  7863861</td>\n",
        "      <td>    59201</td>\n",
        "      <td> +38.7959624</td>\n",
        "      <td> -123.0153700</td>\n",
        "    </tr>\n",
        "    <tr>\n",
        "      <th>2</th>\n",
        "      <td> (((-122.729598, 38.333486), (-122.729512, 38.3...</td>\n",
        "      <td>      Polygon</td>\n",
        "      <td> 06</td>\n",
        "      <td> 16560</td>\n",
        "      <td> 02410240</td>\n",
        "      <td> 0616560</td>\n",
        "      <td>                     Cotati</td>\n",
        "      <td>                     Cotati city</td>\n",
        "      <td> 25</td>\n",
        "      <td> C1</td>\n",
        "      <td> N</td>\n",
        "      <td> N</td>\n",
        "      <td> G4110</td>\n",
        "      <td> A</td>\n",
        "      <td>  4869011</td>\n",
        "      <td>     8380</td>\n",
        "      <td> +38.3284920</td>\n",
        "      <td> -122.7100491</td>\n",
        "    </tr>\n",
        "    <tr>\n",
        "      <th>3</th>\n",
        "      <td> [[((-119.29710299999999, 34.344633), (-119.297...</td>\n",
        "      <td> MultiPolygon</td>\n",
        "      <td> 06</td>\n",
        "      <td> 65042</td>\n",
        "      <td> 02411779</td>\n",
        "      <td> 0665042</td>\n",
        "      <td> San Buenaventura (Ventura)</td>\n",
        "      <td> San Buenaventura (Ventura) city</td>\n",
        "      <td> 25</td>\n",
        "      <td> C1</td>\n",
        "      <td> Y</td>\n",
        "      <td> N</td>\n",
        "      <td> G4110</td>\n",
        "      <td> A</td>\n",
        "      <td> 56502447</td>\n",
        "      <td> 27033706</td>\n",
        "      <td> +34.2677796</td>\n",
        "      <td> -119.2542062</td>\n",
        "    </tr>\n",
        "    <tr>\n",
        "      <th>4</th>\n",
        "      <td> (((-117.891093, 34.14581), (-117.89064, 34.146...</td>\n",
        "      <td>      Polygon</td>\n",
        "      <td> 06</td>\n",
        "      <td> 30014</td>\n",
        "      <td> 02410601</td>\n",
        "      <td> 0630014</td>\n",
        "      <td>                   Glendora</td>\n",
        "      <td>                   Glendora city</td>\n",
        "      <td> 25</td>\n",
        "      <td> C1</td>\n",
        "      <td> N</td>\n",
        "      <td> N</td>\n",
        "      <td> G4110</td>\n",
        "      <td> A</td>\n",
        "      <td> 50242925</td>\n",
        "      <td>   411992</td>\n",
        "      <td> +34.1449667</td>\n",
        "      <td> -117.8476672</td>\n",
        "    </tr>\n",
        "  </tbody>\n",
        "</table>\n",
        "<p>5 rows \u00d7 18 columns</p>\n",
        "</div>"
       ],
       "metadata": {},
       "output_type": "pyout",
       "prompt_number": 22,
       "text": [
        "                             (geometry, coordinates) (geometry, type) STATEFP  \\\n",
        "0  (((-118.456008, 34.284903), (-118.454141, 34.2...          Polygon      06   \n",
        "1  (((-123.035115, 38.787005), (-123.035093, 38.7...          Polygon      06   \n",
        "2  (((-122.729598, 38.333486), (-122.729512, 38.3...          Polygon      06   \n",
        "3  [[((-119.29710299999999, 34.344633), (-119.297...     MultiPolygon      06   \n",
        "4  (((-117.891093, 34.14581), (-117.89064, 34.146...          Polygon      06   \n",
        "\n",
        "  PLACEFP   PLACENS    GEOID                        NAME  \\\n",
        "0   66140  02411785  0666140                San Fernando   \n",
        "1   14190  02409487  0614190                  Cloverdale   \n",
        "2   16560  02410240  0616560                      Cotati   \n",
        "3   65042  02411779  0665042  San Buenaventura (Ventura)   \n",
        "4   30014  02410601  0630014                    Glendora   \n",
        "\n",
        "                          NAMELSAD LSAD CLASSFP PCICBSA PCINECTA  MTFCC  \\\n",
        "0                San Fernando city   25      C1       N        N  G4110   \n",
        "1                  Cloverdale city   25      C1       N        N  G4110   \n",
        "2                      Cotati city   25      C1       N        N  G4110   \n",
        "3  San Buenaventura (Ventura) city   25      C1       Y        N  G4110   \n",
        "4                    Glendora city   25      C1       N        N  G4110   \n",
        "\n",
        "  FUNCSTAT     ALAND    AWATER     INTPTLAT      INTPTLON  \n",
        "0        A   6148690         0  +34.2886519  -118.4362413  \n",
        "1        A   7863861     59201  +38.7959624  -123.0153700  \n",
        "2        A   4869011      8380  +38.3284920  -122.7100491  \n",
        "3        A  56502447  27033706  +34.2677796  -119.2542062  \n",
        "4        A  50242925    411992  +34.1449667  -117.8476672  \n",
        "\n",
        "[5 rows x 18 columns]"
       ]
      }
     ],
     "prompt_number": 22
    },
    {
     "cell_type": "markdown",
     "metadata": {},
     "source": [
      "<p>For more info on how to use pyshp and what all of the various methods do, see the pyshp documentation: http://code.google.com/p/pyshp/wiki/PyShpDocs</p>\n",
      "\n",
      "<p>Putting the two algorithms shown above together, you get a function similar to the makeSpatialDF function at the beginning of this notebook (and repeated below)</p>"
     ]
    },
    {
     "cell_type": "code",
     "collapsed": false,
     "input": [
      "def makeSpatialDF(path, method):\n",
      "    \"\"\"\n",
      "    path = a path to a shapefile\n",
      "    method = One of two strings, \"fiona\" or \"pyshp\". This specifies which module has been imported and should be used to\n",
      "    create the dataframe.\n",
      "    \n",
      "    ====================\n",
      "    Returns a dataframe of the spatial information and attributes associated with each feature in the shapefile at \"path\".\n",
      "    \"\"\"\n",
      "    if method == \"pyshp\":\n",
      "        _shpFile = shapefile.Reader(path) #Load the shapefile into pyshp\n",
      "        attrs = [] #Create an empty array to hold the column headings from the attribute table\n",
      "        for field in _shpFile.fields[1:]: #Iterate over the list of fields, ignore the \"DeletionFlag\" field\n",
      "            attrs.append(field[0]) #Add the field name to the list column headings\n",
      "        cols = [(\"geometry\", \"coordinates\"), (\"geometry\", \"type\")] + attrs #Create list of dataframe columns\n",
      "        data = [] #Create the overall array to hold all the data\n",
      "        recs = _shpFile.shapeRecords() #Create a list of all the features/records in the shapefile\n",
      "        for feat in recs: #Iterate over all features in the shapefile\n",
      "            newRow = [] #Create a new array to hold each row's data\n",
      "            newRow.append(feat.shape.__geo_interface__[\"coordinates\"]) #Add the feature's coordinates to the row\n",
      "            newRow.append(feat.shape.__geo_interface__[\"type\"]) #Add the feature's geometry type to the row\n",
      "            newRow.extend(feat.record) #Add the feature's attributes to the row\n",
      "            data.append(newRow) #Add the row to the overall array of data\n",
      "        return pd.DataFrame(data, columns = cols) #Create the dataframe from the data.\n",
      "    elif method == \"fiona\":\n",
      "        coll = list(fiona.open(path)) #Create the fiona collection of your shapefile\n",
      "        attrs = coll[0][\"properties\"].keys() #Get the column headings from the attribute table\n",
      "        cols = [(\"geometry\", \"coordinates\"), (\"geometry\", \"type\")] + attrs #Create the dataframe columns\n",
      "        data = [] #Create the overall array to hold all the data\n",
      "        for feature in coll: #Iterate over all the features within the feature collection\n",
      "            newRow = [] #Create a new array to hold each row's data\n",
      "            newRow.append(feature[\"geometry\"][\"coordinates\"]) #Add the feature's coordinates to the row\n",
      "            newRow.append(feature[\"geometry\"][\"type\"]) #Add the feature's geometry type to the row\n",
      "            newRow.extend(feature[\"properties\"].values()) #Add the feature's attributes to the row\n",
      "            data.append(newRow) #Add the row to the overall array of data\n",
      "        return pd.DataFrame(data, columns = cols) #Create the dataframe from the data."
     ],
     "language": "python",
     "metadata": {},
     "outputs": [],
     "prompt_number": 23
    },
    {
     "cell_type": "heading",
     "level": 2,
     "metadata": {},
     "source": [
      "4. Wrap up"
     ]
    },
    {
     "cell_type": "markdown",
     "metadata": {},
     "source": [
      "<p>To conclude, a couple of ways to read spatial data (in shapefiles) into python are Pyshp, Fiona, PySAL, and GDAL/OGR.</p>\n",
      "<p>Of these I use Fiona the most. The code to read a shapefile is slightly shorter or simpler than the code needed to read a shapefile with Pyshp or with PySAL and GDAL/OGR. I also prefer writing shapefiles using Fiona as compared to using Pyshp.\n",
      "<p>That being said, I still appreciate having Pyshp around since it can work on any python setup without needing to be built on top of other libraries. That's great when I find myself on computers which are not mine and I don't want to install tons of libraries.</p>"
     ]
    },
    {
     "cell_type": "code",
     "collapsed": false,
     "input": [],
     "language": "python",
     "metadata": {},
     "outputs": []
    }
   ],
   "metadata": {}
  }
 ]
}